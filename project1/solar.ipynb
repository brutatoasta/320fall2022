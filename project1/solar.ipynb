{
 "cells": [
  {
   "cell_type": "markdown",
   "metadata": {},
   "source": [
    "# [Project 1 - CMSC320](https://github.com/cmsc320/fall2022/tree/main/project1)\n",
    "\n",
    "Posted: September 18, 2022; Due: October 1, 2022\n",
    "\n",
    "Please read the entire document before starting!\n",
    "\n",
    "You've been hired by a new space weather startup looking to disrupt the space weather reporting business. Your first project is to provide better data about the top 50 solar flares recorded so far than that shown by your swl SpaceWeatherLive.com. To do this, they've pointed you to this messy HTML page from NASA ((that link is just a copy of this real NASA page but we don't want to DDoS NASA)) where you can get the extra data your startup is going to post in your new spiffy site.\n",
    "\n",
    "Of course, you don't have access to the raw data for either of these two tables, so as an enterprising data scientist you will scrape this information directly from each HTML page using all the great tools available to you in Python. By the way, you should read up a bit on Solar Flares, coronal mass ejections, the solar flare alphabet soup, the scary storms of Halloween 2003, and sickening solar flares."
   ]
  },
  {
   "cell_type": "markdown",
   "metadata": {},
   "source": [
    "## Part 1: Data scraping and preparation"
   ]
  },
  {
   "cell_type": "markdown",
   "metadata": {},
   "source": [
    "### Step 1: Scrape your swl's data (10 pts)"
   ]
  },
  {
   "cell_type": "code",
   "execution_count": 526,
   "metadata": {},
   "outputs": [],
   "source": [
    "import requests, pandas as pd, numpy as np, datetime, re\n",
    "from bs4 import BeautifulSoup"
   ]
  },
  {
   "cell_type": "code",
   "execution_count": 527,
   "metadata": {},
   "outputs": [],
   "source": [
    "dfs = pd.read_html(io = \"https://cmsc320.github.io/files/top-50-solar-flares.html\")"
   ]
  },
  {
   "cell_type": "code",
   "execution_count": 528,
   "metadata": {},
   "outputs": [],
   "source": [
    "# get the data frame and rename the columns\n",
    "swl_df = dfs[0]\n",
    "swl_df.columns = [\"rank\",\"flare_classification\", \"date\", \"region\", \"start_time\", \"maximum_time\",\"end_time\", \"drop\"]"
   ]
  },
  {
   "cell_type": "markdown",
   "metadata": {},
   "source": [
    "### Step 2: Tidy the top 50 solar flare data (10 pts)"
   ]
  },
  {
   "cell_type": "code",
   "execution_count": 529,
   "metadata": {},
   "outputs": [],
   "source": [
    "# drop the last column\n",
    "swl_df= swl_df.drop(labels=\"drop\", axis = 1)\n"
   ]
  },
  {
   "cell_type": "code",
   "execution_count": 530,
   "metadata": {},
   "outputs": [],
   "source": [
    "# combine the date and time for start, max and end time\n",
    "for rank, row in swl_df.iterrows():\n",
    "    col = [\"start_time\", \"maximum_time\", \"end_time\"]\n",
    "    for c in col:\n",
    "        dt =row[\"date\"].split(\"/\")\n",
    "        tm = row[c].split(\":\")\n",
    "        dt_f = datetime.datetime(*[int(i) for i in dt])\n",
    "        tm_f = datetime.time(*[int(i) for i in tm])\n",
    "        swl_df.at[rank,c] = dt_f.combine(dt_f, tm_f)\n",
    "    # clean flare_classification\n",
    "    x = swl_df.at[rank, \"flare_classification\"]\n",
    "    if \"+\" in x:\n",
    "        swl_df.at[rank, \"flare_classification\"] = x[:-1]\n",
    "    # clean region\n",
    "    r = swl_df.at[rank,\"region\"]\n",
    "    if r == \"-\":\n",
    "        swl_df.at[rank,\"region\"] = 0    "
   ]
  },
  {
   "cell_type": "code",
   "execution_count": 531,
   "metadata": {},
   "outputs": [],
   "source": [
    "# save the df with date for later\n",
    "swl_int_df = swl_df\n",
    "swl_int_df.to_csv(\"swl_int_df.csv\")\n",
    "# we no longer need the date, lets drop that column\n",
    "swl_df = swl_df.drop(columns=\"date\", axis = 1)"
   ]
  },
  {
   "cell_type": "code",
   "execution_count": 532,
   "metadata": {},
   "outputs": [],
   "source": [
    "# rename the headers\n",
    "swl_df.columns = [\"rank\",\"flare_classification\", \"region\", \"start_datetime\", \"max_datetime\",\"end_datetime\"]"
   ]
  },
  {
   "cell_type": "markdown",
   "metadata": {},
   "source": [
    "### Step 3: Scrape the NASA data (15 pts)"
   ]
  },
  {
   "cell_type": "code",
   "execution_count": 533,
   "metadata": {},
   "outputs": [],
   "source": [
    "nasaPage = requests.get( \"https://cmsc320.github.io/files/waves_type2.html\")\n",
    "with open(\"nasa.html\", 'wb+')as f:\n",
    "    f.write(nasaPage.content)\n",
    "f.close()\n",
    "with open(\"nasa.html\", 'r') as f:\n",
    "    nasaSoup = BeautifulSoup(f.read(), 'html.parser')"
   ]
  },
  {
   "cell_type": "code",
   "execution_count": 534,
   "metadata": {},
   "outputs": [],
   "source": [
    "for a_tag in nasaSoup(\"a\"):\n",
    "    a_tag.unwrap()\n",
    "# print(nasaSoup.text)\n",
    "with open(\"nasaDropA.html\", \"w\") as f:\n",
    "    f.write(str(nasaSoup.text))"
   ]
  },
  {
   "cell_type": "markdown",
   "metadata": {},
   "source": [
    "### Step 4: Tidy the NASA the table (15 pts)"
   ]
  },
  {
   "cell_type": "code",
   "execution_count": 535,
   "metadata": {},
   "outputs": [],
   "source": [
    "from cmath import nan\n",
    "\n",
    "with open(\"nasaDropA.html\", 'r') as f:\n",
    "    lines = list(f)\n",
    "# for i in range(12):\n",
    "#     print(lines[i])\n",
    "headers = [\"start_date\", \"start_time\", \"end_date\", \"end_time\", \"start_frequency\", \"end_frequency\", \"flare_location\", \"flare_region\",\"flare_classification\", \"cme_date\", \"cme_time\", \"cme_angle\", \"cme_width\",\"cme_speed\"]\n",
    "# process as 2D array+\n",
    "matrix = []\n",
    "for i in range(15, 533):\n",
    "    line = lines[i].split()[:14]\n",
    "    leng = len(line)\n",
    "    for i in range(leng):\n",
    "        if \"-\" in line[i]:\n",
    "            line[i] = float(nan)\n",
    "        elif \"?\" in line[i]:\n",
    "            line[i] = float(nan)\n",
    "    matrix.append(line)"
   ]
  },
  {
   "cell_type": "code",
   "execution_count": 536,
   "metadata": {},
   "outputs": [],
   "source": [
    "# moving into pandas dataframe\n",
    "nasa_df = pd.DataFrame(matrix, columns=headers)\n",
    "nasa_df[\"isHalo\"] = nasa_df.apply(lambda row: row.cme_angle == \"Halo\", axis = 1)\n",
    "def f(s):\n",
    "    return \">\" in str(s)\n",
    "nasa_df[\"width_lower_bound\"] = nasa_df.apply(lambda row: f(row.cme_width), axis = 1)"
   ]
  },
  {
   "cell_type": "code",
   "execution_count": 537,
   "metadata": {},
   "outputs": [],
   "source": [
    "# merging date and time\n",
    "for rank, row in result.iterrows():\n",
    "    col = [\"start_time\", \"end_time\"]\n",
    "\n",
    "    for c in col:\n",
    "        add = False\n",
    "        pre = c.replace(\"_time\", \"_date\")\n",
    "        dt =row[pre].split(\"/\")\n",
    "        # time\n",
    "        if c == \"start_time\":\n",
    "            year = int(dt[0])\n",
    "            # print(year)\n",
    "        tm = row[c]\n",
    "        # clean dirty timings\n",
    "        if \"24:\" in tm:\n",
    "            tm = tm.replace(\"24:\", \"00:\")\n",
    "            add = True\n",
    "        tm = tm.split(\":\")\n",
    "\n",
    "        # date\n",
    "\n",
    "        if \"end\" in c:\n",
    "             dt_f = datetime.datetime(year, *[int(i) for i in dt])\n",
    "        else:\n",
    "            dt_f = datetime.datetime(*[int(i) for i in dt])\n",
    "        if add:\n",
    "            dt_f += datetime.timedelta(days = 1)\n",
    "        \n",
    "        tm_f = datetime.time(*[int(i) for i in tm])\n",
    "        nasa_df.at[rank,c] = dt_f.combine(dt_f, tm_f)"
   ]
  },
  {
   "cell_type": "code",
   "execution_count": 538,
   "metadata": {},
   "outputs": [],
   "source": [
    "# edit angle\n",
    "nasa_df[\"cme_angle\"] = nasa_df[\"cme_angle\"].replace(\"Halo\", float(nan))\n",
    "# edit width\n",
    "nasa_df[\"cme_width\"] = nasa_df[\"cme_width\"].str.replace(\">\", \"\")\n",
    "\n",
    "#save a copy of nasa_df with date preserved for Q2\n",
    "nasa_i_df = nasa_df.copy()\n",
    "# nasa_i_df.rename(columns={\"start_date\":\"date\"}, inplace=True)\n",
    "nasa_i_df.to_csv(\"nasa_i.csv\")\n",
    "nasa_df.drop([\"start_date\", \"end_date\"], axis = 1, inplace = True)\n",
    "# rename datetime columns\n",
    "nasa_df.rename(columns={'start_time':'start_datetime', 'end_time':'end_datetime'}, inplace=True)\n",
    "\n",
    "\n",
    "# save a copy of nasa_df\n",
    "nasa_df.to_csv(\"nasa_df.csv\")"
   ]
  },
  {
   "cell_type": "markdown",
   "metadata": {},
   "source": [
    "## Part 2: Analysis"
   ]
  },
  {
   "cell_type": "markdown",
   "metadata": {},
   "source": [
    "### Q1: Replication\n",
    "Find top 50 by classification in NASA data.\n",
    "\n"
   ]
  },
  {
   "cell_type": "code",
   "execution_count": 539,
   "metadata": {},
   "outputs": [],
   "source": [
    "nasa_r_df = nasa_df.loc[nasa_df['flare_classification'].str.contains(\"X\", na=False)].copy() # since everything in SWL data is X class, filter NASA data for X class\n",
    "nasa_r_df[\"flare_classification\"] = nasa_r_df[\"flare_classification\"].str.replace(\"X\", \"\") # clean out the X so we can order it\n",
    "nasa_r_df[\"flare_classification\"] = nasa_r_df[\"flare_classification\"].astype(float) # change from string to float so numbers with decimal point are ordered properly\n",
    "nasa_r_df.sort_values(by=['flare_classification'], ascending=False, inplace =True ) # sort \n",
    "nasa_r_df.to_csv(\"nasa_r.csv\") # save to csv all rows\n",
    "nasa_r_df.head(50).to_csv(\"nasa_r_50.csv\") # save only the top 50"
   ]
  },
  {
   "cell_type": "markdown",
   "metadata": {},
   "source": [
    "### Q1 Findings:\n",
    "\n",
    "There are some discrepancies - corrupted data and missing data. Compare \"nasa_r.csv\" to \"swl_int.csv\"\n",
    "\n",
    "1. Corrupted data: \n",
    "\n",
    "    Entry # 3, 4 (SWL), X17.2 and X17 exist in SWL data, but only X17.2 exists in NASA data... and a X1.7 with a date that maps to the X17 solar flare in SWL's data! The decimal point has shifted on one of these entries.\n",
    "\n",
    "2. Missing data:  \n",
    "\n",
    "    Entry #16 (SWL), an X6.2 solar flare on 2001/12/13 exists in SWL data, but is missing in NASA's data.\n",
    "\n",
    "Conclusion:\n",
    "\n",
    "These are just a few examples of the types of problems that persist throughout SWL's top 50 entries, so I cannot replicate SWL data fully with NASA data as I don't know which source of data is more authoritative."
   ]
  },
  {
   "cell_type": "markdown",
   "metadata": {},
   "source": [
    "### Q2: Integration\n",
    "Find the rows in NASA data that best match with SWL data (top 50). Since most solar flares don't occur on the same day, I'll try to match by start date to the  \n",
    "\n",
    "However, NASA's data shows 466 unique start dates out of 518, so there might be some overlap within the top 50. "
   ]
  },
  {
   "cell_type": "code",
   "execution_count": 540,
   "metadata": {},
   "outputs": [],
   "source": [
    "swl_df = swl_df.loc[swl_df['flare_classification'].str.contains(\"X\", na=False)].copy() # since everything in SWL data is X class, filter NASA data for X class\n",
    "swl_df[\"flare_classification\"] = swl_df[\"flare_classification\"].str.replace(\"X\", \"\") # clean out the X so we can order it\n",
    "swl_df[\"flare_classification\"] = swl_df[\"flare_classification\"].astype(float)\n",
    "swl_df.to_csv(\"swl.csv\")"
   ]
  },
  {
   "cell_type": "code",
   "execution_count": 541,
   "metadata": {},
   "outputs": [
    {
     "name": "stdout",
     "output_type": "stream",
     "text": [
      "Index(['start_datetime', 'end_datetime', 'start_frequency', 'end_frequency',\n",
      "       'flare_location', 'flare_region', 'flare_classification', 'cme_date',\n",
      "       'cme_time', 'cme_angle', 'cme_width', 'cme_speed', 'isHalo',\n",
      "       'width_lower_bound'],\n",
      "      dtype='object')\n",
      "Index(['rank', 'flare_classification', 'region', 'start_datetime',\n",
      "       'max_datetime', 'end_datetime'],\n",
      "      dtype='object')\n"
     ]
    }
   ],
   "source": [
    "print(nasa_r_df.columns)\n",
    "print(swl_df.columns)"
   ]
  },
  {
   "cell_type": "code",
   "execution_count": 542,
   "metadata": {},
   "outputs": [],
   "source": [
    "swl_df[\"flare_classification\"] = swl_df[\"flare_classification\"].astype(str)\n",
    "nasa_r_df[\"flare_classification\"] = nasa_r_df[\"flare_classification\"].astype(str)\n",
    "swl_df[\"start_datetime\"] = pd.to_datetime(swl_df[\"start_datetime\"])\n",
    "\n",
    "nasa_r_df[\"start_datetime\"] = pd.to_datetime(nasa_r_df[\"start_datetime\"])"
   ]
  },
  {
   "cell_type": "code",
   "execution_count": 543,
   "metadata": {},
   "outputs": [],
   "source": [
    "# Left join on nasa_table\n",
    "result = pd.merge_asof(nasa_r_df.sort_values(\"start_datetime\"),swl_df.sort_values(\"start_datetime\"),  by= \"flare_classification\", on= \"start_datetime\", tolerance=pd.Timedelta('2h'))\n",
    "nasa_r_df[\"flare_classification\"] = nasa_r_df[\"flare_classification\"].astype(float)\n",
    "result.sort_values(\"rank\",  ascending=True, inplace =True)\n",
    "result.head(50).to_csv(\"result.csv\")"
   ]
  },
  {
   "cell_type": "markdown",
   "metadata": {},
   "source": [
    "### Q2 Findings:\n",
    "merge_asof might not be the best approach. For example, ranks #3, 4 in SWL are difficult to match due to incorrect data. "
   ]
  },
  {
   "cell_type": "markdown",
   "metadata": {},
   "source": [
    "### Q3: Analysis\n"
   ]
  },
  {
   "cell_type": "code",
   "execution_count": 544,
   "metadata": {},
   "outputs": [],
   "source": [
    "# def highlight_top(df, n=1):\n",
    "#     def _highlight_top(row, index):\n",
    "#         if row.name in index:\n",
    "#             return [\"background-color: yellow\" for _ in row]\n",
    "#         return [\"\" for _ in row]\n",
    "    \n",
    "#     top_stores = df.nlargest(n, \"flare_classification\")\n",
    "#     top_idx = top_stores.index.values\n",
    "#     return df.style.apply(_highlight_top, index=top_idx, axis=1)\n",
    "    \n",
    "\n",
    "# # highlight the top 5 stores in terms of sales\n",
    "# highlight_top(nasa_r_df, n=50)"
   ]
  },
  {
   "cell_type": "code",
   "execution_count": 552,
   "metadata": {},
   "outputs": [],
   "source": [
    "result = pd.merge_asof(nasa_df.sort_values(\"start_datetime\"),swl_df.sort_values(\"start_datetime\"),  by= \"flare_classification\", on= \"start_datetime\", tolerance=pd.Timedelta('2h'))\n",
    "nasa_r_df[\"flare_classification\"] = nasa_r_df[\"flare_classification\"].astype(float)\n",
    "result.sort_values(\"rank\",  ascending=True, inplace =True)"
   ]
  },
  {
   "cell_type": "code",
   "execution_count": 557,
   "metadata": {},
   "outputs": [
    {
     "data": {
      "text/plain": [
       "Text(0, 0.5, 'Frequncy(Hz)')"
      ]
     },
     "execution_count": 557,
     "metadata": {},
     "output_type": "execute_result"
    },
    {
     "data": {
      "image/png": "[encoded data removed]",
      "text/plain": [
       "<Figure size 432x288 with 1 Axes>"
      ]
     },
     "metadata": {
      "needs_background": "light"
     },
     "output_type": "display_data"
    }
   ],
   "source": [
    "\n",
    "new = result[result[\"start_frequency\"].notna()].copy()\n",
    "new[\"start_datetime\"] = pd.to_datetime(new[\"start_datetime\"])\n",
    "new[\"start_frequency\"] = new[\"start_frequency\"].astype(float)\n",
    "p = new.plot(x =\"start_datetime\", y = \"start_frequency\"\n",
    ", title=\"Starting Frequencies over Time\", colormap=\"Accent\")\n",
    "p.set_xlabel(\"Time(years)\")\n",
    "p.set_ylabel(\"Frequncy(Hz)\")"
   ]
  },
  {
   "cell_type": "code",
   "execution_count": null,
   "metadata": {},
   "outputs": [],
   "source": []
  }
 ],
 "metadata": {
  "kernelspec": {
   "display_name": "Python 3 (ipykernel)",
   "language": "python",
   "name": "python3"
  },
  "language_info": {
   "codemirror_mode": {
    "name": "ipython",
    "version": 3
   },
   "file_extension": ".py",
   "mimetype": "text/x-python",
   "name": "python",
   "nbconvert_exporter": "python",
   "pygments_lexer": "ipython3",
   "version": "3.9.7"
  },
  "vscode": {
   "interpreter": {
    "hash": "01b0da322a7df2b881bf69dce4c75684d5ac75b853286a49a713693279c2c23c"
   }
  }
 },
 "nbformat": 4,
 "nbformat_minor": 4
}
